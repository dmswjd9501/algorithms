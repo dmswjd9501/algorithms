{
 "cells": [
  {
   "cell_type": "code",
   "execution_count": null,
   "metadata": {},
   "outputs": [],
   "source": [
    "for t in range(1, 11):\n",
    "    n = int(input())\n",
    "    arr = list(map(int, input().split()))\n",
    "    \n",
    "    result = 0\n",
    "    for i in range(n-4):\n",
    "        big = max(arr[i], arr[i+1], arr[i+3], arr[i+4])\n",
    "        if arr[i+2] > big:\n",
    "            num += arr[i+2] - big\n",
    "    print('#{t} {num}'.format(t, num))"
   ]
  },
  {
   "cell_type": "code",
   "execution_count": 17,
   "metadata": {},
   "outputs": [],
   "source": [
    "list = [1, 2, 3, 4, 5, 6, 7, 8, 9, 10]\n",
    "M = 3"
   ]
  },
  {
   "cell_type": "code",
   "execution_count": 57,
   "metadata": {},
   "outputs": [
    {
     "name": "stdout",
     "output_type": "stream",
     "text": [
      "[0, 1, 0, 1, 0, 1, 0, 1, 0, 1, 0]\n"
     ]
    }
   ],
   "source": [
    "n = 10\n",
    "arr = [1, 3, 5, 7, 9]\n",
    "street = [0] * (n+1)\n",
    "\n",
    "for i in arr:\n",
    "    street[i] = 1\n",
    "    \n",
    "print(street)\n",
    "\n",
    "# street[k-1]\n",
    "\n",
    "if street[k] == 1:\n",
    "    cnt += 1 # 충전소가 마침 떨어질때있으면, 카운트 + 1\n",
    "    \n",
    "elif street[k]"
   ]
  }
 ],
 "metadata": {
  "kernelspec": {
   "display_name": "Python 3",
   "language": "python",
   "name": "python3"
  },
  "toc": {
   "base_numbering": 1,
   "nav_menu": {},
   "number_sections": true,
   "sideBar": true,
   "skip_h1_title": false,
   "title_cell": "Table of Contents",
   "title_sidebar": "Contents",
   "toc_cell": false,
   "toc_position": {},
   "toc_section_display": true,
   "toc_window_display": false
  }
 },
 "nbformat": 4,
 "nbformat_minor": 2
}
